{
  "cells": [
    {
      "cell_type": "markdown",
      "metadata": {
        "id": "view-in-github",
        "colab_type": "text"
      },
      "source": [
        "<a href=\"https://colab.research.google.com/github/dhavalamsr/dhavala/blob/main/Untitled11.ipynb\" target=\"_parent\"><img src=\"https://colab.research.google.com/assets/colab-badge.svg\" alt=\"Open In Colab\"/></a>"
      ]
    },
    {
      "cell_type": "code",
      "execution_count": null,
      "metadata": {
        "colab": {
          "base_uri": "https://localhost:8080/"
        },
        "id": "uk4WyVCmwvYZ",
        "outputId": "d6b5717e-0cf8-4020-dbd9-668840804075"
      },
      "outputs": [
        {
          "name": "stdout",
          "output_type": "stream",
          "text": [
            "  Building wheel for annoy (setup.py) ... \u001b[?25l\u001b[?25hdone\n",
            "  Created wheel for annoy: filename=annoy-1.17.3-cp310-cp310-linux_x86_64.whl size=552450 sha256=40e238735ab62df60ae650932b3a69f35d4b32053b3235259679a6669eb1c811\n",
            "  Stored in directory: /root/.cache/pip/wheels/64/8a/da/f714bcf46c5efdcfcac0559e63370c21abe961c48e3992465a\n",
            "Successfully built annoy\n",
            "Installing collected packages: annoy\n",
            "Successfully installed annoy-1.17.3\n"
          ]
        }
      ],
      "source": [
        "!pip install gensim annoy numpy\n"
      ]
    },
    {
      "cell_type": "code",
      "execution_count": null,
      "metadata": {
        "colab": {
          "base_uri": "https://localhost:8080/"
        },
        "id": "gw0TdLMJxFsh",
        "outputId": "97c9bfbc-f710-40b8-ca9b-4b07e3da9b1e"
      },
      "outputs": [
        {
          "name": "stdout",
          "output_type": "stream",
          "text": [
            "--2024-06-22 13:34:49--  http://nlp.stanford.edu/data/glove.6B.zip\n",
            "Resolving nlp.stanford.edu (nlp.stanford.edu)... 171.64.67.140\n",
            "Connecting to nlp.stanford.edu (nlp.stanford.edu)|171.64.67.140|:80... connected.\n",
            "HTTP request sent, awaiting response... 302 Found\n",
            "Location: https://nlp.stanford.edu/data/glove.6B.zip [following]\n",
            "--2024-06-22 13:34:49--  https://nlp.stanford.edu/data/glove.6B.zip\n",
            "Connecting to nlp.stanford.edu (nlp.stanford.edu)|171.64.67.140|:443... connected.\n",
            "HTTP request sent, awaiting response... 301 Moved Permanently\n",
            "Location: https://downloads.cs.stanford.edu/nlp/data/glove.6B.zip [following]\n",
            "--2024-06-22 13:34:50--  https://downloads.cs.stanford.edu/nlp/data/glove.6B.zip\n",
            "Resolving downloads.cs.stanford.edu (downloads.cs.stanford.edu)... 171.64.64.22\n",
            "Connecting to downloads.cs.stanford.edu (downloads.cs.stanford.edu)|171.64.64.22|:443... connected.\n",
            "HTTP request sent, awaiting response... 200 OK\n",
            "Length: 862182613 (822M) [application/zip]\n",
            "Saving to: ‘glove.6B.zip’\n",
            "\n",
            "glove.6B.zip        100%[===================>] 822.24M  5.02MB/s    in 2m 39s  \n",
            "\n",
            "2024-06-22 13:37:29 (5.17 MB/s) - ‘glove.6B.zip’ saved [862182613/862182613]\n",
            "\n",
            "Archive:  glove.6B.zip\n",
            "  inflating: glove.6B.50d.txt        \n",
            "  inflating: glove.6B.100d.txt       \n",
            "  inflating: glove.6B.200d.txt       \n",
            "  inflating: glove.6B.300d.txt       \n"
          ]
        }
      ],
      "source": [
        "!wget http://nlp.stanford.edu/data/glove.6B.zip\n",
        "!unzip glove.6B.zip\n"
      ]
    },
    {
      "cell_type": "code",
      "execution_count": null,
      "metadata": {
        "colab": {
          "background_save": true,
          "base_uri": "https://localhost:8080/"
        },
        "id": "_MnNkdhrKBpJ",
        "outputId": "9e9fa60b-e5cd-41f8-c5c5-238e7683940c"
      },
      "outputs": [
        {
          "name": "stderr",
          "output_type": "stream",
          "text": [
            "<ipython-input-7-60488d5bf0d9>:9: DeprecationWarning: Call to deprecated `glove2word2vec` (KeyedVectors.load_word2vec_format(.., binary=False, no_header=True) loads GLoVE text vectors.).\n",
            "  glove2word2vec(glove_input_file, word2vec_output_file)\n"
          ]
        },
        {
          "name": "stdout",
          "output_type": "stream",
          "text": [
            "Loading GloVe word vectors...\n",
            "GloVe word vectors loaded in 111.8507809638977 seconds.\n",
            "Building Annoy index...\n",
            "Annoy index built in 105.49975371360779 seconds.\n",
            "Words similar to 'cloud': ['cloud', 'clouds', 'ash', 'shadow', 'dust', 'sky', 'thick', 'dark', 'skies', 'wind']\n"
          ]
        }
      ],
      "source": [
        "from gensim.scripts.glove2word2vec import glove2word2vec\n",
        "from gensim.models import KeyedVectors\n",
        "from annoy import AnnoyIndex\n",
        "import time\n",
        "\n",
        "# Convert GloVe format to Word2Vec format\n",
        "glove_input_file = 'glove.6B.300d.txt'\n",
        "word2vec_output_file = 'glove.6B.300d.word2vec.txt'\n",
        "glove2word2vec(glove_input_file, word2vec_output_file)\n",
        "\n",
        "# Load Word2Vec format\n",
        "print(\"Loading GloVe word vectors...\")\n",
        "start_time = time.time()\n",
        "word_vectors = KeyedVectors.load_word2vec_format(word2vec_output_file, binary=False)\n",
        "print(f\"GloVe word vectors loaded in {time.time() - start_time} seconds.\")\n",
        "\n",
        "# Define dimensions of the word vectors\n",
        "vector_size = word_vectors.vector_size\n",
        "\n",
        "# Initialize AnnoyIndex with cosine distance for similarity\n",
        "annoy_index = AnnoyIndex(vector_size, 'angular')  # 'angular' for cosine similarity\n",
        "\n",
        "# Build the index for nearest neighbor search\n",
        "print(\"Building Annoy index...\")\n",
        "start_time = time.time()\n",
        "for i, word in enumerate(word_vectors.index_to_key):\n",
        "    vector = word_vectors[word]\n",
        "    annoy_index.add_item(i, vector)\n",
        "\n",
        "annoy_index.build(50)  # 50 trees for better precision\n",
        "print(f\"Annoy index built in {time.time() - start_time} seconds.\")\n",
        "\n",
        "# Function to find similar words\n",
        "def find_similar_words(word, top_n=10):\n",
        "    if word not in word_vectors:\n",
        "        return []\n",
        "\n",
        "    vector = word_vectors[word]\n",
        "    idxs = annoy_index.get_nns_by_vector(vector, top_n)\n",
        "    similar_words = [word_vectors.index_to_key[idx] for idx in idxs]\n",
        "\n",
        "    return similar_words\n",
        "\n",
        "# Example usage\n",
        "word = 'cloud'\n",
        "similar_words = find_similar_words(word)\n",
        "print(f\"Words similar to '{word}': {similar_words}\")\n"
      ]
    },
    {
      "cell_type": "code",
      "execution_count": null,
      "metadata": {
        "id": "BJ8uKJoWKVRo",
        "outputId": "1464c69c-bd87-42e0-afd4-ade45228dacf",
        "colab": {
          "base_uri": "https://localhost:8080/",
          "height": 853
        }
      },
      "outputs": [
        {
          "output_type": "display_data",
          "data": {
            "text/plain": [
              "<Figure size 1000x1000 with 1 Axes>"
            ],
            "image/png": "[encoded data removed]"
          },
          "metadata": {}
        }
      ],
      "source": [
        "import matplotlib.pyplot as plt\n",
        "from sklearn.decomposition import PCA\n",
        "\n",
        "def plot_similar_words(word, top_n=10):\n",
        "    similar_words = find_similar_words(word, top_n)\n",
        "\n",
        "    # Get vectors for the words\n",
        "    words = [word] + similar_words\n",
        "    vectors = [word_vectors[w] for w in words]\n",
        "\n",
        "    # Reduce dimensions to 2D using PCA\n",
        "    pca = PCA(n_components=2)\n",
        "    reduced_vectors = pca.fit_transform(vectors)\n",
        "\n",
        "    plt.figure(figsize=(10, 10))\n",
        "    plt.scatter(reduced_vectors[:, 0], reduced_vectors[:, 1], c='red')\n",
        "\n",
        "    for i, word in enumerate(words):\n",
        "        plt.annotate(word, (reduced_vectors[i, 0], reduced_vectors[i, 1]))\n",
        "\n",
        "    plt.title(f'Similar Words to \"{word}\"')\n",
        "    plt.show()\n",
        "\n",
        "# Example usage\n",
        "plot_similar_words('cloud', top_n=10)\n"
      ]
    },
    {
      "cell_type": "code",
      "source": [],
      "metadata": {
        "id": "wmYG0nsQOa3x"
      },
      "execution_count": null,
      "outputs": []
    }
  ],
  "metadata": {
    "colab": {
      "provenance": [],
      "authorship_tag": "ABX9TyNAGAmQoWtb5AkDF6+P3yfa",
      "include_colab_link": true
    },
    "kernelspec": {
      "display_name": "Python 3",
      "name": "python3"
    },
    "language_info": {
      "name": "python"
    }
  },
  "nbformat": 4,
  "nbformat_minor": 0
}